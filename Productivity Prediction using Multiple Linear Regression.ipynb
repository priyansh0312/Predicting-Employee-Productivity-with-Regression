{
 "cells": [
  {
   "cell_type": "markdown",
   "id": "71eb0a9b",
   "metadata": {},
   "source": [
    "## Importing the libraries"
   ]
  },
  {
   "cell_type": "code",
   "execution_count": 373,
   "id": "b520a26a",
   "metadata": {},
   "outputs": [],
   "source": [
    "import numpy as np\n",
    "import pandas as pd\n",
    "import seaborn as sns\n",
    "import matplotlib.pyplot as plt\n",
    "%matplotlib inline\n",
    "\n",
    "import warnings\n",
    "warnings.filterwarnings('ignore')"
   ]
  },
  {
   "cell_type": "markdown",
   "id": "b1cacaf1",
   "metadata": {},
   "source": [
    "## Importing the Dataset"
   ]
  },
  {
   "cell_type": "code",
   "execution_count": 108,
   "id": "01caabba",
   "metadata": {},
   "outputs": [
    {
     "data": {
      "text/html": [
       "<div>\n",
       "<style scoped>\n",
       "    .dataframe tbody tr th:only-of-type {\n",
       "        vertical-align: middle;\n",
       "    }\n",
       "\n",
       "    .dataframe tbody tr th {\n",
       "        vertical-align: top;\n",
       "    }\n",
       "\n",
       "    .dataframe thead th {\n",
       "        text-align: right;\n",
       "    }\n",
       "</style>\n",
       "<table border=\"1\" class=\"dataframe\">\n",
       "  <thead>\n",
       "    <tr style=\"text-align: right;\">\n",
       "      <th></th>\n",
       "      <th>date</th>\n",
       "      <th>quarter</th>\n",
       "      <th>department</th>\n",
       "      <th>day</th>\n",
       "      <th>team</th>\n",
       "      <th>targeted_productivity</th>\n",
       "      <th>smv</th>\n",
       "      <th>wip</th>\n",
       "      <th>over_time</th>\n",
       "      <th>incentive</th>\n",
       "      <th>idle_time</th>\n",
       "      <th>idle_men</th>\n",
       "      <th>no_of_style_change</th>\n",
       "      <th>no_of_workers</th>\n",
       "      <th>actual_productivity</th>\n",
       "    </tr>\n",
       "  </thead>\n",
       "  <tbody>\n",
       "    <tr>\n",
       "      <th>0</th>\n",
       "      <td>1/1/2015</td>\n",
       "      <td>Quarter1</td>\n",
       "      <td>sweing</td>\n",
       "      <td>Thursday</td>\n",
       "      <td>8</td>\n",
       "      <td>0.80</td>\n",
       "      <td>26.16</td>\n",
       "      <td>1108.0</td>\n",
       "      <td>7080</td>\n",
       "      <td>98</td>\n",
       "      <td>0.0</td>\n",
       "      <td>0</td>\n",
       "      <td>0</td>\n",
       "      <td>59.0</td>\n",
       "      <td>0.940725</td>\n",
       "    </tr>\n",
       "    <tr>\n",
       "      <th>1</th>\n",
       "      <td>1/1/2015</td>\n",
       "      <td>Quarter1</td>\n",
       "      <td>finishing</td>\n",
       "      <td>Thursday</td>\n",
       "      <td>1</td>\n",
       "      <td>0.75</td>\n",
       "      <td>3.94</td>\n",
       "      <td>NaN</td>\n",
       "      <td>960</td>\n",
       "      <td>0</td>\n",
       "      <td>0.0</td>\n",
       "      <td>0</td>\n",
       "      <td>0</td>\n",
       "      <td>8.0</td>\n",
       "      <td>0.886500</td>\n",
       "    </tr>\n",
       "    <tr>\n",
       "      <th>2</th>\n",
       "      <td>1/1/2015</td>\n",
       "      <td>Quarter1</td>\n",
       "      <td>sweing</td>\n",
       "      <td>Thursday</td>\n",
       "      <td>11</td>\n",
       "      <td>0.80</td>\n",
       "      <td>11.41</td>\n",
       "      <td>968.0</td>\n",
       "      <td>3660</td>\n",
       "      <td>50</td>\n",
       "      <td>0.0</td>\n",
       "      <td>0</td>\n",
       "      <td>0</td>\n",
       "      <td>30.5</td>\n",
       "      <td>0.800570</td>\n",
       "    </tr>\n",
       "    <tr>\n",
       "      <th>3</th>\n",
       "      <td>1/1/2015</td>\n",
       "      <td>Quarter1</td>\n",
       "      <td>sweing</td>\n",
       "      <td>Thursday</td>\n",
       "      <td>12</td>\n",
       "      <td>0.80</td>\n",
       "      <td>11.41</td>\n",
       "      <td>968.0</td>\n",
       "      <td>3660</td>\n",
       "      <td>50</td>\n",
       "      <td>0.0</td>\n",
       "      <td>0</td>\n",
       "      <td>0</td>\n",
       "      <td>30.5</td>\n",
       "      <td>0.800570</td>\n",
       "    </tr>\n",
       "    <tr>\n",
       "      <th>4</th>\n",
       "      <td>1/1/2015</td>\n",
       "      <td>Quarter1</td>\n",
       "      <td>sweing</td>\n",
       "      <td>Thursday</td>\n",
       "      <td>6</td>\n",
       "      <td>0.80</td>\n",
       "      <td>25.90</td>\n",
       "      <td>1170.0</td>\n",
       "      <td>1920</td>\n",
       "      <td>50</td>\n",
       "      <td>0.0</td>\n",
       "      <td>0</td>\n",
       "      <td>0</td>\n",
       "      <td>56.0</td>\n",
       "      <td>0.800382</td>\n",
       "    </tr>\n",
       "  </tbody>\n",
       "</table>\n",
       "</div>"
      ],
      "text/plain": [
       "       date   quarter  department       day  team  targeted_productivity  \\\n",
       "0  1/1/2015  Quarter1      sweing  Thursday     8                   0.80   \n",
       "1  1/1/2015  Quarter1  finishing   Thursday     1                   0.75   \n",
       "2  1/1/2015  Quarter1      sweing  Thursday    11                   0.80   \n",
       "3  1/1/2015  Quarter1      sweing  Thursday    12                   0.80   \n",
       "4  1/1/2015  Quarter1      sweing  Thursday     6                   0.80   \n",
       "\n",
       "     smv     wip  over_time  incentive  idle_time  idle_men  \\\n",
       "0  26.16  1108.0       7080         98        0.0         0   \n",
       "1   3.94     NaN        960          0        0.0         0   \n",
       "2  11.41   968.0       3660         50        0.0         0   \n",
       "3  11.41   968.0       3660         50        0.0         0   \n",
       "4  25.90  1170.0       1920         50        0.0         0   \n",
       "\n",
       "   no_of_style_change  no_of_workers  actual_productivity  \n",
       "0                   0           59.0             0.940725  \n",
       "1                   0            8.0             0.886500  \n",
       "2                   0           30.5             0.800570  \n",
       "3                   0           30.5             0.800570  \n",
       "4                   0           56.0             0.800382  "
      ]
     },
     "execution_count": 108,
     "metadata": {},
     "output_type": "execute_result"
    }
   ],
   "source": [
    "df = pd.read_csv(\"garments_worker_productivity.csv\")\n",
    "df.head()"
   ]
  },
  {
   "cell_type": "code",
   "execution_count": 109,
   "id": "079654c7",
   "metadata": {},
   "outputs": [
    {
     "name": "stdout",
     "output_type": "stream",
     "text": [
      "<class 'pandas.core.frame.DataFrame'>\n",
      "RangeIndex: 1197 entries, 0 to 1196\n",
      "Data columns (total 15 columns):\n",
      " #   Column                 Non-Null Count  Dtype  \n",
      "---  ------                 --------------  -----  \n",
      " 0   date                   1197 non-null   object \n",
      " 1   quarter                1197 non-null   object \n",
      " 2   department             1197 non-null   object \n",
      " 3   day                    1197 non-null   object \n",
      " 4   team                   1197 non-null   int64  \n",
      " 5   targeted_productivity  1197 non-null   float64\n",
      " 6   smv                    1197 non-null   float64\n",
      " 7   wip                    691 non-null    float64\n",
      " 8   over_time              1197 non-null   int64  \n",
      " 9   incentive              1197 non-null   int64  \n",
      " 10  idle_time              1197 non-null   float64\n",
      " 11  idle_men               1197 non-null   int64  \n",
      " 12  no_of_style_change     1197 non-null   int64  \n",
      " 13  no_of_workers          1197 non-null   float64\n",
      " 14  actual_productivity    1197 non-null   float64\n",
      "dtypes: float64(6), int64(5), object(4)\n",
      "memory usage: 140.4+ KB\n"
     ]
    }
   ],
   "source": [
    "df.info()"
   ]
  },
  {
   "cell_type": "markdown",
   "id": "b08405f5",
   "metadata": {},
   "source": [
    "Here date has been taken as object type.\n",
    "We will use parse_date in the read_csv method to read the date column as datetime64[ns]"
   ]
  },
  {
   "cell_type": "code",
   "execution_count": 189,
   "id": "6fb3e953",
   "metadata": {},
   "outputs": [
    {
     "name": "stdout",
     "output_type": "stream",
     "text": [
      "<class 'pandas.core.frame.DataFrame'>\n",
      "RangeIndex: 1197 entries, 0 to 1196\n",
      "Data columns (total 15 columns):\n",
      " #   Column                 Non-Null Count  Dtype         \n",
      "---  ------                 --------------  -----         \n",
      " 0   date                   1197 non-null   datetime64[ns]\n",
      " 1   quarter                1197 non-null   object        \n",
      " 2   department             1197 non-null   object        \n",
      " 3   day                    1197 non-null   object        \n",
      " 4   team                   1197 non-null   int64         \n",
      " 5   targeted_productivity  1197 non-null   float64       \n",
      " 6   smv                    1197 non-null   float64       \n",
      " 7   wip                    691 non-null    float64       \n",
      " 8   over_time              1197 non-null   int64         \n",
      " 9   incentive              1197 non-null   int64         \n",
      " 10  idle_time              1197 non-null   float64       \n",
      " 11  idle_men               1197 non-null   int64         \n",
      " 12  no_of_style_change     1197 non-null   int64         \n",
      " 13  no_of_workers          1197 non-null   float64       \n",
      " 14  actual_productivity    1197 non-null   float64       \n",
      "dtypes: datetime64[ns](1), float64(6), int64(5), object(3)\n",
      "memory usage: 140.4+ KB\n"
     ]
    }
   ],
   "source": [
    "df = pd.read_csv(\"garments_worker_productivity.csv\", parse_dates=['date'])\n",
    "df.info()"
   ]
  },
  {
   "cell_type": "markdown",
   "id": "f369af09",
   "metadata": {},
   "source": [
    "## Checking and filling for Null Values"
   ]
  },
  {
   "cell_type": "code",
   "execution_count": 191,
   "id": "b66af3c6",
   "metadata": {},
   "outputs": [
    {
     "data": {
      "text/plain": [
       "0"
      ]
     },
     "execution_count": 191,
     "metadata": {},
     "output_type": "execute_result"
    }
   ],
   "source": [
    "# Checking for duplicates\n",
    "df.duplicated().sum()"
   ]
  },
  {
   "cell_type": "code",
   "execution_count": 192,
   "id": "27ea7bdf",
   "metadata": {},
   "outputs": [
    {
     "data": {
      "text/plain": [
       "date                       0\n",
       "quarter                    0\n",
       "department                 0\n",
       "day                        0\n",
       "team                       0\n",
       "targeted_productivity      0\n",
       "smv                        0\n",
       "wip                      506\n",
       "over_time                  0\n",
       "incentive                  0\n",
       "idle_time                  0\n",
       "idle_men                   0\n",
       "no_of_style_change         0\n",
       "no_of_workers              0\n",
       "actual_productivity        0\n",
       "dtype: int64"
      ]
     },
     "execution_count": 192,
     "metadata": {},
     "output_type": "execute_result"
    }
   ],
   "source": [
    "# Checking for Null values\n",
    "df.isnull().sum()"
   ]
  },
  {
   "cell_type": "code",
   "execution_count": 193,
   "id": "52c9c3a9",
   "metadata": {},
   "outputs": [
    {
     "data": {
      "text/plain": [
       "<AxesSubplot:>"
      ]
     },
     "execution_count": 193,
     "metadata": {},
     "output_type": "execute_result"
    },
    {
     "data": {
      "image/png": "[encoded data removed]",
      "text/plain": [
       "<Figure size 432x288 with 1 Axes>"
      ]
     },
     "metadata": {
      "needs_background": "light"
     },
     "output_type": "display_data"
    }
   ],
   "source": [
    "# visualising Null values\n",
    "sns.heatmap(data = df.isnull(), yticklabels= False, cbar = False)"
   ]
  },
  {
   "cell_type": "markdown",
   "id": "207668a6",
   "metadata": {},
   "source": [
    "Now we will try to fill the null values in wip based on the average value of each department"
   ]
  },
  {
   "cell_type": "code",
   "execution_count": 194,
   "id": "69dacf52",
   "metadata": {},
   "outputs": [],
   "source": [
    "# fixing the error in department\n",
    "df['department'] = df['department'].apply(lambda x: 'finishing' if x == \n",
    "                                          ('finishing ' or 'finishing' ) else 'sewing')"
   ]
  },
  {
   "cell_type": "code",
   "execution_count": 195,
   "id": "5a2d3639",
   "metadata": {},
   "outputs": [
    {
     "data": {
      "text/plain": [
       "department\n",
       "finishing            NaN\n",
       "sewing       1190.465991\n",
       "Name: wip, dtype: float64"
      ]
     },
     "execution_count": 195,
     "metadata": {},
     "output_type": "execute_result"
    }
   ],
   "source": [
    "# checking groupwise mean for different departments for wip values\n",
    "df.groupby(df.department).mean()['wip']"
   ]
  },
  {
   "cell_type": "code",
   "execution_count": 196,
   "id": "2d5094ba",
   "metadata": {},
   "outputs": [
    {
     "data": {
      "text/plain": [
       "sewing       940\n",
       "finishing    257\n",
       "Name: department, dtype: int64"
      ]
     },
     "execution_count": 196,
     "metadata": {},
     "output_type": "execute_result"
    }
   ],
   "source": [
    "# checking count of each department\n",
    "df.department.value_counts()"
   ]
  },
  {
   "cell_type": "code",
   "execution_count": 197,
   "id": "c26bdf8e",
   "metadata": {},
   "outputs": [
    {
     "data": {
      "text/html": [
       "<div>\n",
       "<style scoped>\n",
       "    .dataframe tbody tr th:only-of-type {\n",
       "        vertical-align: middle;\n",
       "    }\n",
       "\n",
       "    .dataframe tbody tr th {\n",
       "        vertical-align: top;\n",
       "    }\n",
       "\n",
       "    .dataframe thead th {\n",
       "        text-align: right;\n",
       "    }\n",
       "</style>\n",
       "<table border=\"1\" class=\"dataframe\">\n",
       "  <thead>\n",
       "    <tr style=\"text-align: right;\">\n",
       "      <th></th>\n",
       "      <th>date</th>\n",
       "      <th>quarter</th>\n",
       "      <th>department</th>\n",
       "      <th>day</th>\n",
       "      <th>team</th>\n",
       "      <th>targeted_productivity</th>\n",
       "      <th>smv</th>\n",
       "      <th>wip</th>\n",
       "      <th>over_time</th>\n",
       "      <th>incentive</th>\n",
       "      <th>idle_time</th>\n",
       "      <th>idle_men</th>\n",
       "      <th>no_of_style_change</th>\n",
       "      <th>no_of_workers</th>\n",
       "      <th>actual_productivity</th>\n",
       "    </tr>\n",
       "  </thead>\n",
       "  <tbody>\n",
       "    <tr>\n",
       "      <th>1</th>\n",
       "      <td>2015-01-01</td>\n",
       "      <td>Quarter1</td>\n",
       "      <td>finishing</td>\n",
       "      <td>Thursday</td>\n",
       "      <td>1</td>\n",
       "      <td>0.75</td>\n",
       "      <td>3.94</td>\n",
       "      <td>NaN</td>\n",
       "      <td>960</td>\n",
       "      <td>0</td>\n",
       "      <td>0.0</td>\n",
       "      <td>0</td>\n",
       "      <td>0</td>\n",
       "      <td>8.0</td>\n",
       "      <td>0.886500</td>\n",
       "    </tr>\n",
       "    <tr>\n",
       "      <th>6</th>\n",
       "      <td>2015-01-01</td>\n",
       "      <td>Quarter1</td>\n",
       "      <td>finishing</td>\n",
       "      <td>Thursday</td>\n",
       "      <td>2</td>\n",
       "      <td>0.75</td>\n",
       "      <td>3.94</td>\n",
       "      <td>NaN</td>\n",
       "      <td>960</td>\n",
       "      <td>0</td>\n",
       "      <td>0.0</td>\n",
       "      <td>0</td>\n",
       "      <td>0</td>\n",
       "      <td>8.0</td>\n",
       "      <td>0.755167</td>\n",
       "    </tr>\n",
       "    <tr>\n",
       "      <th>13</th>\n",
       "      <td>2015-01-01</td>\n",
       "      <td>Quarter1</td>\n",
       "      <td>finishing</td>\n",
       "      <td>Thursday</td>\n",
       "      <td>10</td>\n",
       "      <td>0.65</td>\n",
       "      <td>3.94</td>\n",
       "      <td>NaN</td>\n",
       "      <td>960</td>\n",
       "      <td>0</td>\n",
       "      <td>0.0</td>\n",
       "      <td>0</td>\n",
       "      <td>0</td>\n",
       "      <td>8.0</td>\n",
       "      <td>0.705917</td>\n",
       "    </tr>\n",
       "    <tr>\n",
       "      <th>14</th>\n",
       "      <td>2015-01-01</td>\n",
       "      <td>Quarter1</td>\n",
       "      <td>finishing</td>\n",
       "      <td>Thursday</td>\n",
       "      <td>8</td>\n",
       "      <td>0.75</td>\n",
       "      <td>2.90</td>\n",
       "      <td>NaN</td>\n",
       "      <td>960</td>\n",
       "      <td>0</td>\n",
       "      <td>0.0</td>\n",
       "      <td>0</td>\n",
       "      <td>0</td>\n",
       "      <td>8.0</td>\n",
       "      <td>0.676667</td>\n",
       "    </tr>\n",
       "    <tr>\n",
       "      <th>15</th>\n",
       "      <td>2015-01-01</td>\n",
       "      <td>Quarter1</td>\n",
       "      <td>finishing</td>\n",
       "      <td>Thursday</td>\n",
       "      <td>4</td>\n",
       "      <td>0.75</td>\n",
       "      <td>3.94</td>\n",
       "      <td>NaN</td>\n",
       "      <td>2160</td>\n",
       "      <td>0</td>\n",
       "      <td>0.0</td>\n",
       "      <td>0</td>\n",
       "      <td>0</td>\n",
       "      <td>18.0</td>\n",
       "      <td>0.593056</td>\n",
       "    </tr>\n",
       "  </tbody>\n",
       "</table>\n",
       "</div>"
      ],
      "text/plain": [
       "         date   quarter department       day  team  targeted_productivity  \\\n",
       "1  2015-01-01  Quarter1  finishing  Thursday     1                   0.75   \n",
       "6  2015-01-01  Quarter1  finishing  Thursday     2                   0.75   \n",
       "13 2015-01-01  Quarter1  finishing  Thursday    10                   0.65   \n",
       "14 2015-01-01  Quarter1  finishing  Thursday     8                   0.75   \n",
       "15 2015-01-01  Quarter1  finishing  Thursday     4                   0.75   \n",
       "\n",
       "     smv  wip  over_time  incentive  idle_time  idle_men  no_of_style_change  \\\n",
       "1   3.94  NaN        960          0        0.0         0                   0   \n",
       "6   3.94  NaN        960          0        0.0         0                   0   \n",
       "13  3.94  NaN        960          0        0.0         0                   0   \n",
       "14  2.90  NaN        960          0        0.0         0                   0   \n",
       "15  3.94  NaN       2160          0        0.0         0                   0   \n",
       "\n",
       "    no_of_workers  actual_productivity  \n",
       "1             8.0             0.886500  \n",
       "6             8.0             0.755167  \n",
       "13            8.0             0.705917  \n",
       "14            8.0             0.676667  \n",
       "15           18.0             0.593056  "
      ]
     },
     "execution_count": 197,
     "metadata": {},
     "output_type": "execute_result"
    }
   ],
   "source": [
    "df[df.department == 'finishing'].head()"
   ]
  },
  {
   "cell_type": "markdown",
   "id": "71bf247d",
   "metadata": {},
   "source": [
    "As we can see, wip for finishing department is fully empty\n",
    "\n",
    "Hence we can fill the NA values in wip according to the mean of each quarter"
   ]
  },
  {
   "cell_type": "code",
   "execution_count": 198,
   "id": "87b7e727",
   "metadata": {},
   "outputs": [
    {
     "data": {
      "text/plain": [
       "array(['Quarter1', 'Quarter2', 'Quarter3', 'Quarter4', 'Quarter5'],\n",
       "      dtype=object)"
      ]
     },
     "execution_count": 198,
     "metadata": {},
     "output_type": "execute_result"
    }
   ],
   "source": [
    "df.quarter.unique()"
   ]
  },
  {
   "cell_type": "code",
   "execution_count": 199,
   "id": "56cda70d",
   "metadata": {},
   "outputs": [
    {
     "data": {
      "text/plain": [
       "quarter\n",
       "Quarter1    1580.000000\n",
       "Quarter2     938.425532\n",
       "Quarter3    1029.728682\n",
       "Quarter4    1091.178571\n",
       "Quarter5    1182.956522\n",
       "Name: wip, dtype: float64"
      ]
     },
     "execution_count": 199,
     "metadata": {},
     "output_type": "execute_result"
    }
   ],
   "source": [
    "df.groupby('quarter').mean()['wip']"
   ]
  },
  {
   "cell_type": "code",
   "execution_count": 200,
   "id": "397963a3",
   "metadata": {},
   "outputs": [],
   "source": [
    "# making a function to fill the NULL values of wip\n",
    "\n",
    "def fillNAwip(col):\n",
    "    wip = col[0]\n",
    "    quarter = col[1]\n",
    "    \n",
    "    if pd.isnull(wip):\n",
    "        if quarter == 'Quarter1':\n",
    "            wip = 1580\n",
    "        elif quarter == 'Quarter2':\n",
    "            wip = 938\n",
    "        elif quarter == 'Quarter3':\n",
    "            wip = 1029\n",
    "        elif quarter == 'Quarter4':\n",
    "            wip = 1091\n",
    "        else:\n",
    "            wip = 1182\n",
    "            \n",
    "    return wip"
   ]
  },
  {
   "cell_type": "code",
   "execution_count": 201,
   "id": "740144c3",
   "metadata": {},
   "outputs": [],
   "source": [
    "# filling null in wip using the above function\n",
    "df['wip'] = df[['wip', 'quarter']].apply(fillNAwip, axis = 1)"
   ]
  },
  {
   "cell_type": "code",
   "execution_count": 202,
   "id": "c72770c0",
   "metadata": {},
   "outputs": [
    {
     "data": {
      "text/plain": [
       "date                     0\n",
       "quarter                  0\n",
       "department               0\n",
       "day                      0\n",
       "team                     0\n",
       "targeted_productivity    0\n",
       "smv                      0\n",
       "wip                      0\n",
       "over_time                0\n",
       "incentive                0\n",
       "idle_time                0\n",
       "idle_men                 0\n",
       "no_of_style_change       0\n",
       "no_of_workers            0\n",
       "actual_productivity      0\n",
       "dtype: int64"
      ]
     },
     "execution_count": 202,
     "metadata": {},
     "output_type": "execute_result"
    }
   ],
   "source": [
    "# Checking for Null values\n",
    "df.isnull().sum()"
   ]
  },
  {
   "cell_type": "code",
   "execution_count": 203,
   "id": "e754a7e1",
   "metadata": {},
   "outputs": [
    {
     "data": {
      "text/plain": [
       "department\n",
       "finishing    1196.241245\n",
       "sewing       1185.620213\n",
       "Name: wip, dtype: float64"
      ]
     },
     "execution_count": 203,
     "metadata": {},
     "output_type": "execute_result"
    }
   ],
   "source": [
    "# checking the department mean value for wip\n",
    "df.groupby(df.department).mean()['wip']"
   ]
  },
  {
   "cell_type": "markdown",
   "id": "5edb2ffb",
   "metadata": {},
   "source": [
    "Now there are no null values in the wip column"
   ]
  },
  {
   "cell_type": "markdown",
   "id": "4d447546",
   "metadata": {},
   "source": [
    "## Analysing Categorical and Numerical features"
   ]
  },
  {
   "cell_type": "code",
   "execution_count": 204,
   "id": "d7017ba3",
   "metadata": {},
   "outputs": [
    {
     "data": {
      "text/html": [
       "<div>\n",
       "<style scoped>\n",
       "    .dataframe tbody tr th:only-of-type {\n",
       "        vertical-align: middle;\n",
       "    }\n",
       "\n",
       "    .dataframe tbody tr th {\n",
       "        vertical-align: top;\n",
       "    }\n",
       "\n",
       "    .dataframe thead th {\n",
       "        text-align: right;\n",
       "    }\n",
       "</style>\n",
       "<table border=\"1\" class=\"dataframe\">\n",
       "  <thead>\n",
       "    <tr style=\"text-align: right;\">\n",
       "      <th></th>\n",
       "      <th>quarter</th>\n",
       "      <th>department</th>\n",
       "      <th>day</th>\n",
       "    </tr>\n",
       "  </thead>\n",
       "  <tbody>\n",
       "    <tr>\n",
       "      <th>count</th>\n",
       "      <td>1197</td>\n",
       "      <td>1197</td>\n",
       "      <td>1197</td>\n",
       "    </tr>\n",
       "    <tr>\n",
       "      <th>unique</th>\n",
       "      <td>5</td>\n",
       "      <td>2</td>\n",
       "      <td>6</td>\n",
       "    </tr>\n",
       "    <tr>\n",
       "      <th>top</th>\n",
       "      <td>Quarter1</td>\n",
       "      <td>sewing</td>\n",
       "      <td>Wednesday</td>\n",
       "    </tr>\n",
       "    <tr>\n",
       "      <th>freq</th>\n",
       "      <td>360</td>\n",
       "      <td>940</td>\n",
       "      <td>208</td>\n",
       "    </tr>\n",
       "  </tbody>\n",
       "</table>\n",
       "</div>"
      ],
      "text/plain": [
       "         quarter department        day\n",
       "count       1197       1197       1197\n",
       "unique         5          2          6\n",
       "top     Quarter1     sewing  Wednesday\n",
       "freq         360        940        208"
      ]
     },
     "execution_count": 204,
     "metadata": {},
     "output_type": "execute_result"
    }
   ],
   "source": [
    "# Categorical features\n",
    "df.describe(include = ['O'])"
   ]
  },
  {
   "cell_type": "code",
   "execution_count": 206,
   "id": "16835154",
   "metadata": {},
   "outputs": [
    {
     "name": "stdout",
     "output_type": "stream",
     "text": [
      "quarter\n",
      "['Quarter1' 'Quarter2' 'Quarter3' 'Quarter4' 'Quarter5']\n",
      "\n",
      "department\n",
      "['sewing' 'finishing']\n",
      "\n",
      "day\n",
      "['Thursday' 'Saturday' 'Sunday' 'Monday' 'Tuesday' 'Wednesday']\n",
      "\n"
     ]
    }
   ],
   "source": [
    "# checking for unique values in categorical features\n",
    "\n",
    "cat = df.select_dtypes(include = 'object')\n",
    "for c in cat.columns:\n",
    "    print(f'{c}')\n",
    "    print(cat[c].unique())\n",
    "    print()"
   ]
  },
  {
   "cell_type": "code",
   "execution_count": 207,
   "id": "8bcf55e6",
   "metadata": {},
   "outputs": [
    {
     "data": {
      "text/html": [
       "<div>\n",
       "<style scoped>\n",
       "    .dataframe tbody tr th:only-of-type {\n",
       "        vertical-align: middle;\n",
       "    }\n",
       "\n",
       "    .dataframe tbody tr th {\n",
       "        vertical-align: top;\n",
       "    }\n",
       "\n",
       "    .dataframe thead th {\n",
       "        text-align: right;\n",
       "    }\n",
       "</style>\n",
       "<table border=\"1\" class=\"dataframe\">\n",
       "  <thead>\n",
       "    <tr style=\"text-align: right;\">\n",
       "      <th></th>\n",
       "      <th>count</th>\n",
       "      <th>mean</th>\n",
       "      <th>std</th>\n",
       "      <th>min</th>\n",
       "      <th>25%</th>\n",
       "      <th>50%</th>\n",
       "      <th>75%</th>\n",
       "      <th>max</th>\n",
       "    </tr>\n",
       "  </thead>\n",
       "  <tbody>\n",
       "    <tr>\n",
       "      <th>team</th>\n",
       "      <td>1197.0</td>\n",
       "      <td>6.426901</td>\n",
       "      <td>3.463963</td>\n",
       "      <td>1.000000</td>\n",
       "      <td>3.000000</td>\n",
       "      <td>6.000000</td>\n",
       "      <td>9.000000</td>\n",
       "      <td>12.000000</td>\n",
       "    </tr>\n",
       "    <tr>\n",
       "      <th>targeted_productivity</th>\n",
       "      <td>1197.0</td>\n",
       "      <td>0.729632</td>\n",
       "      <td>0.097891</td>\n",
       "      <td>0.070000</td>\n",
       "      <td>0.700000</td>\n",
       "      <td>0.750000</td>\n",
       "      <td>0.800000</td>\n",
       "      <td>0.800000</td>\n",
       "    </tr>\n",
       "    <tr>\n",
       "      <th>smv</th>\n",
       "      <td>1197.0</td>\n",
       "      <td>15.062172</td>\n",
       "      <td>10.943219</td>\n",
       "      <td>2.900000</td>\n",
       "      <td>3.940000</td>\n",
       "      <td>15.260000</td>\n",
       "      <td>24.260000</td>\n",
       "      <td>54.560000</td>\n",
       "    </tr>\n",
       "    <tr>\n",
       "      <th>wip</th>\n",
       "      <td>1197.0</td>\n",
       "      <td>1187.900585</td>\n",
       "      <td>1406.137563</td>\n",
       "      <td>7.000000</td>\n",
       "      <td>938.000000</td>\n",
       "      <td>1066.000000</td>\n",
       "      <td>1283.000000</td>\n",
       "      <td>23122.000000</td>\n",
       "    </tr>\n",
       "    <tr>\n",
       "      <th>over_time</th>\n",
       "      <td>1197.0</td>\n",
       "      <td>4567.460317</td>\n",
       "      <td>3348.823563</td>\n",
       "      <td>0.000000</td>\n",
       "      <td>1440.000000</td>\n",
       "      <td>3960.000000</td>\n",
       "      <td>6960.000000</td>\n",
       "      <td>25920.000000</td>\n",
       "    </tr>\n",
       "    <tr>\n",
       "      <th>incentive</th>\n",
       "      <td>1197.0</td>\n",
       "      <td>38.210526</td>\n",
       "      <td>160.182643</td>\n",
       "      <td>0.000000</td>\n",
       "      <td>0.000000</td>\n",
       "      <td>0.000000</td>\n",
       "      <td>50.000000</td>\n",
       "      <td>3600.000000</td>\n",
       "    </tr>\n",
       "    <tr>\n",
       "      <th>idle_time</th>\n",
       "      <td>1197.0</td>\n",
       "      <td>0.730159</td>\n",
       "      <td>12.709757</td>\n",
       "      <td>0.000000</td>\n",
       "      <td>0.000000</td>\n",
       "      <td>0.000000</td>\n",
       "      <td>0.000000</td>\n",
       "      <td>300.000000</td>\n",
       "    </tr>\n",
       "    <tr>\n",
       "      <th>idle_men</th>\n",
       "      <td>1197.0</td>\n",
       "      <td>0.369256</td>\n",
       "      <td>3.268987</td>\n",
       "      <td>0.000000</td>\n",
       "      <td>0.000000</td>\n",
       "      <td>0.000000</td>\n",
       "      <td>0.000000</td>\n",
       "      <td>45.000000</td>\n",
       "    </tr>\n",
       "    <tr>\n",
       "      <th>no_of_style_change</th>\n",
       "      <td>1197.0</td>\n",
       "      <td>0.150376</td>\n",
       "      <td>0.427848</td>\n",
       "      <td>0.000000</td>\n",
       "      <td>0.000000</td>\n",
       "      <td>0.000000</td>\n",
       "      <td>0.000000</td>\n",
       "      <td>2.000000</td>\n",
       "    </tr>\n",
       "    <tr>\n",
       "      <th>no_of_workers</th>\n",
       "      <td>1197.0</td>\n",
       "      <td>34.609858</td>\n",
       "      <td>22.197687</td>\n",
       "      <td>2.000000</td>\n",
       "      <td>9.000000</td>\n",
       "      <td>34.000000</td>\n",
       "      <td>57.000000</td>\n",
       "      <td>89.000000</td>\n",
       "    </tr>\n",
       "    <tr>\n",
       "      <th>actual_productivity</th>\n",
       "      <td>1197.0</td>\n",
       "      <td>0.735091</td>\n",
       "      <td>0.174488</td>\n",
       "      <td>0.233705</td>\n",
       "      <td>0.650307</td>\n",
       "      <td>0.773333</td>\n",
       "      <td>0.850253</td>\n",
       "      <td>1.120437</td>\n",
       "    </tr>\n",
       "  </tbody>\n",
       "</table>\n",
       "</div>"
      ],
      "text/plain": [
       "                        count         mean          std       min  \\\n",
       "team                   1197.0     6.426901     3.463963  1.000000   \n",
       "targeted_productivity  1197.0     0.729632     0.097891  0.070000   \n",
       "smv                    1197.0    15.062172    10.943219  2.900000   \n",
       "wip                    1197.0  1187.900585  1406.137563  7.000000   \n",
       "over_time              1197.0  4567.460317  3348.823563  0.000000   \n",
       "incentive              1197.0    38.210526   160.182643  0.000000   \n",
       "idle_time              1197.0     0.730159    12.709757  0.000000   \n",
       "idle_men               1197.0     0.369256     3.268987  0.000000   \n",
       "no_of_style_change     1197.0     0.150376     0.427848  0.000000   \n",
       "no_of_workers          1197.0    34.609858    22.197687  2.000000   \n",
       "actual_productivity    1197.0     0.735091     0.174488  0.233705   \n",
       "\n",
       "                               25%          50%          75%           max  \n",
       "team                      3.000000     6.000000     9.000000     12.000000  \n",
       "targeted_productivity     0.700000     0.750000     0.800000      0.800000  \n",
       "smv                       3.940000    15.260000    24.260000     54.560000  \n",
       "wip                     938.000000  1066.000000  1283.000000  23122.000000  \n",
       "over_time              1440.000000  3960.000000  6960.000000  25920.000000  \n",
       "incentive                 0.000000     0.000000    50.000000   3600.000000  \n",
       "idle_time                 0.000000     0.000000     0.000000    300.000000  \n",
       "idle_men                  0.000000     0.000000     0.000000     45.000000  \n",
       "no_of_style_change        0.000000     0.000000     0.000000      2.000000  \n",
       "no_of_workers             9.000000    34.000000    57.000000     89.000000  \n",
       "actual_productivity       0.650307     0.773333     0.850253      1.120437  "
      ]
     },
     "execution_count": 207,
     "metadata": {},
     "output_type": "execute_result"
    }
   ],
   "source": [
    "# Numerical features\n",
    "df.describe().T"
   ]
  },
  {
   "cell_type": "markdown",
   "id": "a77fd623",
   "metadata": {},
   "source": [
    "## Feature Selection"
   ]
  },
  {
   "cell_type": "markdown",
   "id": "2a269acc",
   "metadata": {},
   "source": [
    "We will be using Sequential feature selector"
   ]
  },
  {
   "cell_type": "code",
   "execution_count": 233,
   "id": "a7eee5da",
   "metadata": {},
   "outputs": [],
   "source": [
    "# dropping date column since it is of no use\n",
    "df.drop('date', axis = 1, inplace = True)\n",
    "df2 = df.copy()"
   ]
  },
  {
   "cell_type": "code",
   "execution_count": 234,
   "id": "c282a1a1",
   "metadata": {},
   "outputs": [],
   "source": [
    "# encoding the categorical features into dummy variables\n",
    "df2 = pd.get_dummies(df2, drop_first=True)"
   ]
  },
  {
   "cell_type": "code",
   "execution_count": 236,
   "id": "69835772",
   "metadata": {},
   "outputs": [
    {
     "data": {
      "text/html": [
       "<div>\n",
       "<style scoped>\n",
       "    .dataframe tbody tr th:only-of-type {\n",
       "        vertical-align: middle;\n",
       "    }\n",
       "\n",
       "    .dataframe tbody tr th {\n",
       "        vertical-align: top;\n",
       "    }\n",
       "\n",
       "    .dataframe thead th {\n",
       "        text-align: right;\n",
       "    }\n",
       "</style>\n",
       "<table border=\"1\" class=\"dataframe\">\n",
       "  <thead>\n",
       "    <tr style=\"text-align: right;\">\n",
       "      <th></th>\n",
       "      <th>team</th>\n",
       "      <th>targeted_productivity</th>\n",
       "      <th>smv</th>\n",
       "      <th>wip</th>\n",
       "      <th>over_time</th>\n",
       "      <th>incentive</th>\n",
       "      <th>idle_time</th>\n",
       "      <th>idle_men</th>\n",
       "      <th>no_of_style_change</th>\n",
       "      <th>no_of_workers</th>\n",
       "      <th>...</th>\n",
       "      <th>quarter_Quarter2</th>\n",
       "      <th>quarter_Quarter3</th>\n",
       "      <th>quarter_Quarter4</th>\n",
       "      <th>quarter_Quarter5</th>\n",
       "      <th>department_sewing</th>\n",
       "      <th>day_Saturday</th>\n",
       "      <th>day_Sunday</th>\n",
       "      <th>day_Thursday</th>\n",
       "      <th>day_Tuesday</th>\n",
       "      <th>day_Wednesday</th>\n",
       "    </tr>\n",
       "  </thead>\n",
       "  <tbody>\n",
       "    <tr>\n",
       "      <th>0</th>\n",
       "      <td>8</td>\n",
       "      <td>0.80</td>\n",
       "      <td>26.16</td>\n",
       "      <td>1108.0</td>\n",
       "      <td>7080</td>\n",
       "      <td>98</td>\n",
       "      <td>0.0</td>\n",
       "      <td>0</td>\n",
       "      <td>0</td>\n",
       "      <td>59.0</td>\n",
       "      <td>...</td>\n",
       "      <td>0</td>\n",
       "      <td>0</td>\n",
       "      <td>0</td>\n",
       "      <td>0</td>\n",
       "      <td>1</td>\n",
       "      <td>0</td>\n",
       "      <td>0</td>\n",
       "      <td>1</td>\n",
       "      <td>0</td>\n",
       "      <td>0</td>\n",
       "    </tr>\n",
       "    <tr>\n",
       "      <th>1</th>\n",
       "      <td>1</td>\n",
       "      <td>0.75</td>\n",
       "      <td>3.94</td>\n",
       "      <td>1580.0</td>\n",
       "      <td>960</td>\n",
       "      <td>0</td>\n",
       "      <td>0.0</td>\n",
       "      <td>0</td>\n",
       "      <td>0</td>\n",
       "      <td>8.0</td>\n",
       "      <td>...</td>\n",
       "      <td>0</td>\n",
       "      <td>0</td>\n",
       "      <td>0</td>\n",
       "      <td>0</td>\n",
       "      <td>0</td>\n",
       "      <td>0</td>\n",
       "      <td>0</td>\n",
       "      <td>1</td>\n",
       "      <td>0</td>\n",
       "      <td>0</td>\n",
       "    </tr>\n",
       "    <tr>\n",
       "      <th>2</th>\n",
       "      <td>11</td>\n",
       "      <td>0.80</td>\n",
       "      <td>11.41</td>\n",
       "      <td>968.0</td>\n",
       "      <td>3660</td>\n",
       "      <td>50</td>\n",
       "      <td>0.0</td>\n",
       "      <td>0</td>\n",
       "      <td>0</td>\n",
       "      <td>30.5</td>\n",
       "      <td>...</td>\n",
       "      <td>0</td>\n",
       "      <td>0</td>\n",
       "      <td>0</td>\n",
       "      <td>0</td>\n",
       "      <td>1</td>\n",
       "      <td>0</td>\n",
       "      <td>0</td>\n",
       "      <td>1</td>\n",
       "      <td>0</td>\n",
       "      <td>0</td>\n",
       "    </tr>\n",
       "    <tr>\n",
       "      <th>3</th>\n",
       "      <td>12</td>\n",
       "      <td>0.80</td>\n",
       "      <td>11.41</td>\n",
       "      <td>968.0</td>\n",
       "      <td>3660</td>\n",
       "      <td>50</td>\n",
       "      <td>0.0</td>\n",
       "      <td>0</td>\n",
       "      <td>0</td>\n",
       "      <td>30.5</td>\n",
       "      <td>...</td>\n",
       "      <td>0</td>\n",
       "      <td>0</td>\n",
       "      <td>0</td>\n",
       "      <td>0</td>\n",
       "      <td>1</td>\n",
       "      <td>0</td>\n",
       "      <td>0</td>\n",
       "      <td>1</td>\n",
       "      <td>0</td>\n",
       "      <td>0</td>\n",
       "    </tr>\n",
       "    <tr>\n",
       "      <th>4</th>\n",
       "      <td>6</td>\n",
       "      <td>0.80</td>\n",
       "      <td>25.90</td>\n",
       "      <td>1170.0</td>\n",
       "      <td>1920</td>\n",
       "      <td>50</td>\n",
       "      <td>0.0</td>\n",
       "      <td>0</td>\n",
       "      <td>0</td>\n",
       "      <td>56.0</td>\n",
       "      <td>...</td>\n",
       "      <td>0</td>\n",
       "      <td>0</td>\n",
       "      <td>0</td>\n",
       "      <td>0</td>\n",
       "      <td>1</td>\n",
       "      <td>0</td>\n",
       "      <td>0</td>\n",
       "      <td>1</td>\n",
       "      <td>0</td>\n",
       "      <td>0</td>\n",
       "    </tr>\n",
       "  </tbody>\n",
       "</table>\n",
       "<p>5 rows × 21 columns</p>\n",
       "</div>"
      ],
      "text/plain": [
       "   team  targeted_productivity    smv     wip  over_time  incentive  \\\n",
       "0     8                   0.80  26.16  1108.0       7080         98   \n",
       "1     1                   0.75   3.94  1580.0        960          0   \n",
       "2    11                   0.80  11.41   968.0       3660         50   \n",
       "3    12                   0.80  11.41   968.0       3660         50   \n",
       "4     6                   0.80  25.90  1170.0       1920         50   \n",
       "\n",
       "   idle_time  idle_men  no_of_style_change  no_of_workers  ...  \\\n",
       "0        0.0         0                   0           59.0  ...   \n",
       "1        0.0         0                   0            8.0  ...   \n",
       "2        0.0         0                   0           30.5  ...   \n",
       "3        0.0         0                   0           30.5  ...   \n",
       "4        0.0         0                   0           56.0  ...   \n",
       "\n",
       "   quarter_Quarter2  quarter_Quarter3  quarter_Quarter4  quarter_Quarter5  \\\n",
       "0                 0                 0                 0                 0   \n",
       "1                 0                 0                 0                 0   \n",
       "2                 0                 0                 0                 0   \n",
       "3                 0                 0                 0                 0   \n",
       "4                 0                 0                 0                 0   \n",
       "\n",
       "   department_sewing  day_Saturday  day_Sunday  day_Thursday  day_Tuesday  \\\n",
       "0                  1             0           0             1            0   \n",
       "1                  0             0           0             1            0   \n",
       "2                  1             0           0             1            0   \n",
       "3                  1             0           0             1            0   \n",
       "4                  1             0           0             1            0   \n",
       "\n",
       "   day_Wednesday  \n",
       "0              0  \n",
       "1              0  \n",
       "2              0  \n",
       "3              0  \n",
       "4              0  \n",
       "\n",
       "[5 rows x 21 columns]"
      ]
     },
     "execution_count": 236,
     "metadata": {},
     "output_type": "execute_result"
    }
   ],
   "source": [
    "df2.head()"
   ]
  },
  {
   "cell_type": "code",
   "execution_count": 259,
   "id": "ec9dfe79",
   "metadata": {},
   "outputs": [
    {
     "data": {
      "text/plain": [
       "<AxesSubplot:>"
      ]
     },
     "execution_count": 259,
     "metadata": {},
     "output_type": "execute_result"
    },
    {
     "data": {
      "image/png": "[encoded data removed]",
      "text/plain": [
       "<Figure size 720x504 with 2 Axes>"
      ]
     },
     "metadata": {
      "needs_background": "light"
     },
     "output_type": "display_data"
    }
   ],
   "source": [
    "# checking the correlation among the variables\n",
    "plt.figure(figsize = (10,7))\n",
    "sns.heatmap(df.corr(), annot = True, cmap = \"Blues\")"
   ]
  },
  {
   "cell_type": "code",
   "execution_count": 283,
   "id": "acfe0c24",
   "metadata": {},
   "outputs": [],
   "source": [
    "# Selecting Important features using Sequential feature Selector\n",
    "from sklearn.feature_selection import SequentialFeatureSelector\n",
    "from sklearn.linear_model import LinearRegression\n",
    "\n",
    "reg = LinearRegression()\n",
    "X = df2.drop('actual_productivity', axis = 1)\n",
    "y = df2['actual_productivity']\n",
    "\n",
    "# columns/features of the dataset\n",
    "features = X.columns"
   ]
  },
  {
   "cell_type": "code",
   "execution_count": 284,
   "id": "a88dd126",
   "metadata": {},
   "outputs": [
    {
     "data": {
      "text/plain": [
       "SequentialFeatureSelector(direction='backward', estimator=LinearRegression(),\n",
       "                          n_features_to_select=7)"
      ]
     },
     "execution_count": 284,
     "metadata": {},
     "output_type": "execute_result"
    }
   ],
   "source": [
    "# make the feature object and then fit the data to it\n",
    "sfs = SequentialFeatureSelector(reg, n_features_to_select=7, direction='backward')\n",
    "sfs.fit(X, y)"
   ]
  },
  {
   "cell_type": "code",
   "execution_count": 285,
   "id": "8b1d4610",
   "metadata": {},
   "outputs": [
    {
     "data": {
      "text/plain": [
       "Index(['team', 'targeted_productivity', 'smv', 'idle_men',\n",
       "       'no_of_style_change', 'no_of_workers', 'department_sewing'],\n",
       "      dtype='object')"
      ]
     },
     "execution_count": 285,
     "metadata": {},
     "output_type": "execute_result"
    }
   ],
   "source": [
    "# Get the selected features\n",
    "features[sfs.get_support()]"
   ]
  },
  {
   "cell_type": "code",
   "execution_count": 286,
   "id": "9b05e4cb",
   "metadata": {},
   "outputs": [],
   "source": [
    "# now we can transform X to be only the selected features with .tranform() method\n",
    "X_selected = sfs.transform(X)"
   ]
  },
  {
   "cell_type": "code",
   "execution_count": 287,
   "id": "67400cda",
   "metadata": {},
   "outputs": [],
   "source": [
    "# create a dataframe for feature scaling on the independant variable and train test split\n",
    "X_selected = pd.DataFrame(data = X_selected, columns = features[sfs.get_support()])"
   ]
  },
  {
   "cell_type": "code",
   "execution_count": 288,
   "id": "c951332c",
   "metadata": {},
   "outputs": [
    {
     "data": {
      "text/html": [
       "<div>\n",
       "<style scoped>\n",
       "    .dataframe tbody tr th:only-of-type {\n",
       "        vertical-align: middle;\n",
       "    }\n",
       "\n",
       "    .dataframe tbody tr th {\n",
       "        vertical-align: top;\n",
       "    }\n",
       "\n",
       "    .dataframe thead th {\n",
       "        text-align: right;\n",
       "    }\n",
       "</style>\n",
       "<table border=\"1\" class=\"dataframe\">\n",
       "  <thead>\n",
       "    <tr style=\"text-align: right;\">\n",
       "      <th></th>\n",
       "      <th>team</th>\n",
       "      <th>targeted_productivity</th>\n",
       "      <th>smv</th>\n",
       "      <th>idle_men</th>\n",
       "      <th>no_of_style_change</th>\n",
       "      <th>no_of_workers</th>\n",
       "      <th>department_sewing</th>\n",
       "    </tr>\n",
       "  </thead>\n",
       "  <tbody>\n",
       "    <tr>\n",
       "      <th>0</th>\n",
       "      <td>8.0</td>\n",
       "      <td>0.80</td>\n",
       "      <td>26.16</td>\n",
       "      <td>0.0</td>\n",
       "      <td>0.0</td>\n",
       "      <td>59.0</td>\n",
       "      <td>1.0</td>\n",
       "    </tr>\n",
       "    <tr>\n",
       "      <th>1</th>\n",
       "      <td>1.0</td>\n",
       "      <td>0.75</td>\n",
       "      <td>3.94</td>\n",
       "      <td>0.0</td>\n",
       "      <td>0.0</td>\n",
       "      <td>8.0</td>\n",
       "      <td>0.0</td>\n",
       "    </tr>\n",
       "    <tr>\n",
       "      <th>2</th>\n",
       "      <td>11.0</td>\n",
       "      <td>0.80</td>\n",
       "      <td>11.41</td>\n",
       "      <td>0.0</td>\n",
       "      <td>0.0</td>\n",
       "      <td>30.5</td>\n",
       "      <td>1.0</td>\n",
       "    </tr>\n",
       "    <tr>\n",
       "      <th>3</th>\n",
       "      <td>12.0</td>\n",
       "      <td>0.80</td>\n",
       "      <td>11.41</td>\n",
       "      <td>0.0</td>\n",
       "      <td>0.0</td>\n",
       "      <td>30.5</td>\n",
       "      <td>1.0</td>\n",
       "    </tr>\n",
       "    <tr>\n",
       "      <th>4</th>\n",
       "      <td>6.0</td>\n",
       "      <td>0.80</td>\n",
       "      <td>25.90</td>\n",
       "      <td>0.0</td>\n",
       "      <td>0.0</td>\n",
       "      <td>56.0</td>\n",
       "      <td>1.0</td>\n",
       "    </tr>\n",
       "  </tbody>\n",
       "</table>\n",
       "</div>"
      ],
      "text/plain": [
       "   team  targeted_productivity    smv  idle_men  no_of_style_change  \\\n",
       "0   8.0                   0.80  26.16       0.0                 0.0   \n",
       "1   1.0                   0.75   3.94       0.0                 0.0   \n",
       "2  11.0                   0.80  11.41       0.0                 0.0   \n",
       "3  12.0                   0.80  11.41       0.0                 0.0   \n",
       "4   6.0                   0.80  25.90       0.0                 0.0   \n",
       "\n",
       "   no_of_workers  department_sewing  \n",
       "0           59.0                1.0  \n",
       "1            8.0                0.0  \n",
       "2           30.5                1.0  \n",
       "3           30.5                1.0  \n",
       "4           56.0                1.0  "
      ]
     },
     "execution_count": 288,
     "metadata": {},
     "output_type": "execute_result"
    }
   ],
   "source": [
    "X_selected.head()"
   ]
  },
  {
   "cell_type": "code",
   "execution_count": 289,
   "id": "999b0134",
   "metadata": {},
   "outputs": [
    {
     "data": {
      "text/plain": [
       "0       0.940725\n",
       "1       0.886500\n",
       "2       0.800570\n",
       "3       0.800570\n",
       "4       0.800382\n",
       "          ...   \n",
       "1192    0.628333\n",
       "1193    0.625625\n",
       "1194    0.625625\n",
       "1195    0.505889\n",
       "1196    0.394722\n",
       "Name: actual_productivity, Length: 1197, dtype: float64"
      ]
     },
     "execution_count": 289,
     "metadata": {},
     "output_type": "execute_result"
    }
   ],
   "source": [
    "y"
   ]
  },
  {
   "cell_type": "markdown",
   "id": "742f83f0",
   "metadata": {},
   "source": [
    "Now we will train the model with this X_selected and y"
   ]
  },
  {
   "cell_type": "markdown",
   "id": "a46aa2f5",
   "metadata": {},
   "source": [
    "## Feature Scaling"
   ]
  },
  {
   "cell_type": "code",
   "execution_count": 383,
   "id": "b54c0b58",
   "metadata": {},
   "outputs": [],
   "source": [
    "# train test split\n",
    "from sklearn.model_selection import train_test_split\n",
    "X_train, X_test, y_train, y_test = train_test_split(X_selected, y, test_size = 0.3, random_state = 101)"
   ]
  },
  {
   "cell_type": "code",
   "execution_count": 385,
   "id": "ec6462df",
   "metadata": {},
   "outputs": [],
   "source": [
    "# Scaling the features\n",
    "from sklearn.preprocessing import StandardScaler\n",
    "sc = StandardScaler()\n",
    "X_train.iloc[:, :6] = sc.fit_transform(X_train.iloc[:, :6])\n",
    "X_test.iloc[:, :6] = sc.transform(X_test.iloc[:, :6])"
   ]
  },
  {
   "cell_type": "code",
   "execution_count": 388,
   "id": "b909ebe1",
   "metadata": {},
   "outputs": [
    {
     "data": {
      "text/html": [
       "<div>\n",
       "<style scoped>\n",
       "    .dataframe tbody tr th:only-of-type {\n",
       "        vertical-align: middle;\n",
       "    }\n",
       "\n",
       "    .dataframe tbody tr th {\n",
       "        vertical-align: top;\n",
       "    }\n",
       "\n",
       "    .dataframe thead th {\n",
       "        text-align: right;\n",
       "    }\n",
       "</style>\n",
       "<table border=\"1\" class=\"dataframe\">\n",
       "  <thead>\n",
       "    <tr style=\"text-align: right;\">\n",
       "      <th></th>\n",
       "      <th>team</th>\n",
       "      <th>targeted_productivity</th>\n",
       "      <th>smv</th>\n",
       "      <th>idle_men</th>\n",
       "      <th>no_of_style_change</th>\n",
       "      <th>no_of_workers</th>\n",
       "      <th>department_sewing</th>\n",
       "    </tr>\n",
       "  </thead>\n",
       "  <tbody>\n",
       "    <tr>\n",
       "      <th>475</th>\n",
       "      <td>-0.445122</td>\n",
       "      <td>-2.363292</td>\n",
       "      <td>0.558322</td>\n",
       "      <td>-0.12712</td>\n",
       "      <td>-0.355451</td>\n",
       "      <td>1.084278</td>\n",
       "      <td>1.0</td>\n",
       "    </tr>\n",
       "    <tr>\n",
       "      <th>9</th>\n",
       "      <td>-1.607579</td>\n",
       "      <td>0.208710</td>\n",
       "      <td>1.232953</td>\n",
       "      <td>-0.12712</td>\n",
       "      <td>-0.355451</td>\n",
       "      <td>1.061775</td>\n",
       "      <td>1.0</td>\n",
       "    </tr>\n",
       "    <tr>\n",
       "      <th>180</th>\n",
       "      <td>-0.154508</td>\n",
       "      <td>0.723111</td>\n",
       "      <td>-0.309723</td>\n",
       "      <td>-0.12712</td>\n",
       "      <td>-0.355451</td>\n",
       "      <td>-0.153410</td>\n",
       "      <td>1.0</td>\n",
       "    </tr>\n",
       "    <tr>\n",
       "      <th>306</th>\n",
       "      <td>-0.735737</td>\n",
       "      <td>-0.305690</td>\n",
       "      <td>0.718419</td>\n",
       "      <td>-0.12712</td>\n",
       "      <td>-0.355451</td>\n",
       "      <td>1.016768</td>\n",
       "      <td>1.0</td>\n",
       "    </tr>\n",
       "    <tr>\n",
       "      <th>1119</th>\n",
       "      <td>0.717335</td>\n",
       "      <td>0.208710</td>\n",
       "      <td>0.373237</td>\n",
       "      <td>-0.12712</td>\n",
       "      <td>-0.355451</td>\n",
       "      <td>0.814237</td>\n",
       "      <td>1.0</td>\n",
       "    </tr>\n",
       "  </tbody>\n",
       "</table>\n",
       "</div>"
      ],
      "text/plain": [
       "          team  targeted_productivity       smv  idle_men  no_of_style_change  \\\n",
       "475  -0.445122              -2.363292  0.558322  -0.12712           -0.355451   \n",
       "9    -1.607579               0.208710  1.232953  -0.12712           -0.355451   \n",
       "180  -0.154508               0.723111 -0.309723  -0.12712           -0.355451   \n",
       "306  -0.735737              -0.305690  0.718419  -0.12712           -0.355451   \n",
       "1119  0.717335               0.208710  0.373237  -0.12712           -0.355451   \n",
       "\n",
       "      no_of_workers  department_sewing  \n",
       "475        1.084278                1.0  \n",
       "9          1.061775                1.0  \n",
       "180       -0.153410                1.0  \n",
       "306        1.016768                1.0  \n",
       "1119       0.814237                1.0  "
      ]
     },
     "execution_count": 388,
     "metadata": {},
     "output_type": "execute_result"
    }
   ],
   "source": [
    "X_train.head()"
   ]
  },
  {
   "cell_type": "code",
   "execution_count": 389,
   "id": "24db039e",
   "metadata": {},
   "outputs": [
    {
     "data": {
      "text/html": [
       "<div>\n",
       "<style scoped>\n",
       "    .dataframe tbody tr th:only-of-type {\n",
       "        vertical-align: middle;\n",
       "    }\n",
       "\n",
       "    .dataframe tbody tr th {\n",
       "        vertical-align: top;\n",
       "    }\n",
       "\n",
       "    .dataframe thead th {\n",
       "        text-align: right;\n",
       "    }\n",
       "</style>\n",
       "<table border=\"1\" class=\"dataframe\">\n",
       "  <thead>\n",
       "    <tr style=\"text-align: right;\">\n",
       "      <th></th>\n",
       "      <th>team</th>\n",
       "      <th>targeted_productivity</th>\n",
       "      <th>smv</th>\n",
       "      <th>idle_men</th>\n",
       "      <th>no_of_style_change</th>\n",
       "      <th>no_of_workers</th>\n",
       "      <th>department_sewing</th>\n",
       "    </tr>\n",
       "  </thead>\n",
       "  <tbody>\n",
       "    <tr>\n",
       "      <th>980</th>\n",
       "      <td>-0.735737</td>\n",
       "      <td>-2.363292</td>\n",
       "      <td>1.101543</td>\n",
       "      <td>-0.12712</td>\n",
       "      <td>4.221669</td>\n",
       "      <td>1.084278</td>\n",
       "      <td>1.0</td>\n",
       "    </tr>\n",
       "    <tr>\n",
       "      <th>99</th>\n",
       "      <td>1.007949</td>\n",
       "      <td>0.208710</td>\n",
       "      <td>1.232953</td>\n",
       "      <td>-0.12712</td>\n",
       "      <td>-0.355451</td>\n",
       "      <td>1.106782</td>\n",
       "      <td>1.0</td>\n",
       "    </tr>\n",
       "    <tr>\n",
       "      <th>740</th>\n",
       "      <td>-0.735737</td>\n",
       "      <td>-0.305690</td>\n",
       "      <td>1.419888</td>\n",
       "      <td>-0.12712</td>\n",
       "      <td>1.933109</td>\n",
       "      <td>1.129285</td>\n",
       "      <td>1.0</td>\n",
       "    </tr>\n",
       "    <tr>\n",
       "      <th>1138</th>\n",
       "      <td>-0.735737</td>\n",
       "      <td>0.208710</td>\n",
       "      <td>-1.001012</td>\n",
       "      <td>-0.12712</td>\n",
       "      <td>-0.355451</td>\n",
       "      <td>-1.166065</td>\n",
       "      <td>1.0</td>\n",
       "    </tr>\n",
       "    <tr>\n",
       "      <th>595</th>\n",
       "      <td>0.136106</td>\n",
       "      <td>-0.305690</td>\n",
       "      <td>0.879443</td>\n",
       "      <td>-0.12712</td>\n",
       "      <td>-0.355451</td>\n",
       "      <td>0.994265</td>\n",
       "      <td>1.0</td>\n",
       "    </tr>\n",
       "  </tbody>\n",
       "</table>\n",
       "</div>"
      ],
      "text/plain": [
       "          team  targeted_productivity       smv  idle_men  no_of_style_change  \\\n",
       "980  -0.735737              -2.363292  1.101543  -0.12712            4.221669   \n",
       "99    1.007949               0.208710  1.232953  -0.12712           -0.355451   \n",
       "740  -0.735737              -0.305690  1.419888  -0.12712            1.933109   \n",
       "1138 -0.735737               0.208710 -1.001012  -0.12712           -0.355451   \n",
       "595   0.136106              -0.305690  0.879443  -0.12712           -0.355451   \n",
       "\n",
       "      no_of_workers  department_sewing  \n",
       "980        1.084278                1.0  \n",
       "99         1.106782                1.0  \n",
       "740        1.129285                1.0  \n",
       "1138      -1.166065                1.0  \n",
       "595        0.994265                1.0  "
      ]
     },
     "execution_count": 389,
     "metadata": {},
     "output_type": "execute_result"
    }
   ],
   "source": [
    "X_test.head()"
   ]
  },
  {
   "cell_type": "markdown",
   "id": "f70fe0d7",
   "metadata": {},
   "source": [
    "## Model Training"
   ]
  },
  {
   "cell_type": "code",
   "execution_count": 390,
   "id": "7f36ccd3",
   "metadata": {},
   "outputs": [
    {
     "data": {
      "text/plain": [
       "LinearRegression()"
      ]
     },
     "execution_count": 390,
     "metadata": {},
     "output_type": "execute_result"
    }
   ],
   "source": [
    "# train the model on regressor object\n",
    "reg = LinearRegression()\n",
    "reg.fit(X_train, y_train)"
   ]
  },
  {
   "cell_type": "markdown",
   "id": "28cd753a",
   "metadata": {},
   "source": [
    "## Evaluating Model Performance"
   ]
  },
  {
   "cell_type": "code",
   "execution_count": 391,
   "id": "b2fe919f",
   "metadata": {},
   "outputs": [],
   "source": [
    "predictions = reg.predict(X_test)"
   ]
  },
  {
   "cell_type": "code",
   "execution_count": 416,
   "id": "a6ed3b4d",
   "metadata": {},
   "outputs": [
    {
     "data": {
      "text/plain": [
       "<matplotlib.collections.PathCollection at 0x7f9741596940>"
      ]
     },
     "execution_count": 416,
     "metadata": {},
     "output_type": "execute_result"
    },
    {
     "data": {
      "image/png": "[encoded data removed]",
      "text/plain": [
       "<Figure size 432x288 with 1 Axes>"
      ]
     },
     "metadata": {
      "needs_background": "light"
     },
     "output_type": "display_data"
    }
   ],
   "source": [
    "# plotting the predicted results and the actual results\n",
    "plt.scatter(y_test, predictions)"
   ]
  },
  {
   "cell_type": "markdown",
   "id": "e6534e3b",
   "metadata": {},
   "source": [
    "As we can see that the predicted values are not linearly alligning with the actual values. It means that we have to evaluate the model with other regression techniques like RandomForest, etc."
   ]
  },
  {
   "cell_type": "code",
   "execution_count": 399,
   "id": "1b3fabd3",
   "metadata": {},
   "outputs": [
    {
     "data": {
      "text/plain": [
       "<AxesSubplot:xlabel='actual_productivity', ylabel='Density'>"
      ]
     },
     "execution_count": 399,
     "metadata": {},
     "output_type": "execute_result"
    },
    {
     "data": {
      "image/png": "[encoded data removed]",
      "text/plain": [
       "<Figure size 432x288 with 1 Axes>"
      ]
     },
     "metadata": {
      "needs_background": "light"
     },
     "output_type": "display_data"
    }
   ],
   "source": [
    "# Plotting the distribution of residuals\n",
    "sns.distplot(y_test - predictions, bins = 30)"
   ]
  },
  {
   "cell_type": "markdown",
   "id": "6b380be3",
   "metadata": {},
   "source": [
    "The distribution of residuals is uniform and normal"
   ]
  },
  {
   "cell_type": "markdown",
   "id": "e1cfaf5c",
   "metadata": {},
   "source": [
    "## Evaluation Metrics"
   ]
  },
  {
   "cell_type": "code",
   "execution_count": 409,
   "id": "900f9dd4",
   "metadata": {},
   "outputs": [
    {
     "name": "stdout",
     "output_type": "stream",
     "text": [
      "[-0.03141706  0.07123855 -0.07641938 -0.02303254 -0.01699964  0.07474739\n",
      " -0.03465738]\n",
      "\n",
      "0.7631900949335428\n"
     ]
    }
   ],
   "source": [
    "print(reg.coef_)\n",
    "print()\n",
    "print(reg.intercept_)"
   ]
  },
  {
   "cell_type": "code",
   "execution_count": 406,
   "id": "d770d69b",
   "metadata": {},
   "outputs": [
    {
     "name": "stdout",
     "output_type": "stream",
     "text": [
      "0.10580920252664384\n",
      "0.02323988809579971\n",
      "0.1524463449735667\n",
      "-1.7138130179186484\n"
     ]
    }
   ],
   "source": [
    "from sklearn import metrics\n",
    "MAE = metrics.mean_absolute_error(y_test, predictions)\n",
    "MSE = metrics.mean_squared_error(y_test, predictions)\n",
    "RMSE = np.sqrt(MSE)\n",
    "R2 = metrics.r2_score(predictions, y_test)\n",
    "\n",
    "print(MAE)\n",
    "print(MSE)\n",
    "print(RMSE)\n",
    "print(R2)"
   ]
  }
 ],
 "metadata": {
  "kernelspec": {
   "display_name": "Python 3",
   "language": "python",
   "name": "python3"
  },
  "language_info": {
   "codemirror_mode": {
    "name": "ipython",
    "version": 3
   },
   "file_extension": ".py",
   "mimetype": "text/x-python",
   "name": "python",
   "nbconvert_exporter": "python",
   "pygments_lexer": "ipython3",
   "version": "3.8.8"
  }
 },
 "nbformat": 4,
 "nbformat_minor": 5
}
